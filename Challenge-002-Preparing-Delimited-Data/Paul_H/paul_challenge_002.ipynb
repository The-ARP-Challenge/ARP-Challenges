{
 "cells": [
  {
   "cell_type": "markdown",
   "metadata": {},
   "source": [
    "# Challenge 2\n",
    "Many products will export textual data with delimiters such as quotes.  This is done so that strings can contain delimiters or control characters within them.   Having more than one type of delimiter can be hard for ETL programs to interpret.  In the input text file, there are two different delimiters (double quotes, single quotes) and they surround different data types.\n",
    "\n",
    "Use Alteryx to strip out the delimiters as superfluous and format the data as represented in the output."
   ]
  },
  {
   "cell_type": "code",
   "execution_count": 15,
   "metadata": {},
   "outputs": [],
   "source": [
    "# Load required packages and Read in source files\n",
    "import pandas as pd\n",
    "import numpy as np\n",
    "csv_file =\"C:/Users/paulj/OneDrive/Documents/Github/Challenges/Challenge-002-Preparing-Delimited-Data/files/input.csv\"\n"
   ]
  },
  {
   "cell_type": "code",
   "execution_count": 69,
   "metadata": {},
   "outputs": [
    {
     "name": "stdout",
     "output_type": "stream",
     "text": [
      "<class 'pandas.core.frame.DataFrame'>\n",
      "RangeIndex: 2 entries, 0 to 1\n",
      "Data columns (total 3 columns):\n",
      "Poem              2 non-null object\n",
      "Poem_ID           2 non-null int64\n",
      "Poem_Read_Date    2 non-null datetime64[ns]\n",
      "dtypes: datetime64[ns](1), int64(1), object(1)\n",
      "memory usage: 128.0+ bytes\n",
      "None\n",
      "(2, 3)\n",
      "                                                Poem  Poem_ID Poem_Read_Date\n",
      "0  Mary had a little lamb whose fleece was white ...      123     2001-06-16\n",
      "1                   I do not like green eggs and ham      456     2010-12-25\n"
     ]
    }
   ],
   "source": [
    "#set list for column names\n",
    "col_names=[\"Poem\",\"Poem_ID\",\"Poem_Read_Date\"]\n",
    "#read in file\n",
    "csv = pd.read_csv(csv_file, skiprows=[0], header=None)\n",
    "\n",
    "#separate into separate columns\n",
    "output_csv = csv[0].str.split(',', expand=True)\n",
    "\n",
    "#rename columns\n",
    "output_csv.columns = col_names\n",
    "\n",
    "#transform columns to correct data type\n",
    "output_csv['Poem_ID'] = pd.to_numeric(output_csv['Poem_ID'])\n",
    "output_csv['Poem_Read_Date'] = pd.to_datetime(output_csv['Poem_Read_Date'])\n",
    "output_csv['Poem'] = output_csv['Poem'].str.replace('\"', '')\n",
    "\n",
    "print(output_csv.info())\n",
    "print(output_csv.shape)\n",
    "print(output_csv)"
   ]
  }
 ],
 "metadata": {
  "kernelspec": {
   "display_name": "Python 3",
   "language": "python",
   "name": "python3"
  },
  "language_info": {
   "codemirror_mode": {
    "name": "ipython",
    "version": 3
   },
   "file_extension": ".py",
   "mimetype": "text/x-python",
   "name": "python",
   "nbconvert_exporter": "python",
   "pygments_lexer": "ipython3",
   "version": "3.6.5"
  }
 },
 "nbformat": 4,
 "nbformat_minor": 2
}
