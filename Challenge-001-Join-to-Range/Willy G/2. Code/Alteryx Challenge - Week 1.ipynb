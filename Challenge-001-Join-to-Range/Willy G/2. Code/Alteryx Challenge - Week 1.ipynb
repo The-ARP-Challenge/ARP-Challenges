{
 "cells": [
  {
   "cell_type": "markdown",
   "metadata": {},
   "source": [
    "ALTERYX WEEKLY CHALLENGE 1\n",
    "\n",
    "A company in Australia has source data which is made up of a series of postal codes (eg. 2000, 2001, 2002 etc.) amongst some other data fields. They have a separate reference table which contains postcode ranges (eg. 2000 to 2002) which they would like to use to match/filter their main data.\n",
    "\n",
    "Each Customer Record needs to be joined to the Lookup table based on a Postal Area Ranged region. Then finally summarize the customer data by Region, Sales Rep, and Responder, then a count of customers."
   ]
  },
  {
   "cell_type": "code",
   "execution_count": 10,
   "metadata": {},
   "outputs": [],
   "source": [
    "import pandas as pd"
   ]
  },
  {
   "cell_type": "code",
   "execution_count": 11,
   "metadata": {},
   "outputs": [],
   "source": [
    "#Read in our two datasets: cdata is our customer data, ldata is the lookuptable\n",
    "\n",
    "cdata = pd.read_excel(io=r\"C:\\Users\\Guicheney William\\Documents\\GitHub\\Challenges\\Challenge-001-Join-to-Range\\Willy G\\1. Data\\01. Customer Data.xlsx\")\n",
    "ldata = pd.read_excel(io=r\"C:\\Users\\Guicheney William\\Documents\\GitHub\\Challenges\\Challenge-001-Join-to-Range\\Willy G\\1. Data\\02. Lookup table.xlsx\")\n",
    "                      "
   ]
  },
  {
   "cell_type": "code",
   "execution_count": 12,
   "metadata": {},
   "outputs": [
    {
     "name": "stdout",
     "output_type": "stream",
     "text": [
      "   Customer ID  Store Number Customer Segment Responder  Postal Area\n",
      "0            2           100        Corporate        No         2086\n",
      "1            3           100        Corporate        No         2051\n",
      "2            5           100      Home Office        No         2077\n",
      "3            6           106      Home Office        No         2004\n",
      "4            8           101      Home Office        No         2010\n"
     ]
    }
   ],
   "source": [
    "#Let's check what our customer data looks like\n",
    "\n",
    "print(cdata.head(5))"
   ]
  },
  {
   "cell_type": "code",
   "execution_count": 13,
   "metadata": {},
   "outputs": [
    {
     "data": {
      "text/plain": [
       "(2678, 5)"
      ]
     },
     "execution_count": 13,
     "metadata": {},
     "output_type": "execute_result"
    }
   ],
   "source": [
    "#Let's get some more information about this dataset. We know it has 2678 rows: by making sure we have the same amount of rows\n",
    "#in our final dataset, we will be sure that that we have not lost any customers in the process and that they have all been\n",
    "#assigned to a Sales rep\n",
    "\n",
    "cdata.shape"
   ]
  },
  {
   "cell_type": "code",
   "execution_count": 14,
   "metadata": {},
   "outputs": [
    {
     "name": "stdout",
     "output_type": "stream",
     "text": [
      "       Range Region Sales Rep  Expect Revenue\n",
      "0  2000-2019     R1      John         1000000\n",
      "1  2020-2039     R2       Ted         3245234\n",
      "2  2040-2059     R3      Nick          456654\n",
      "3  2060-2079     R4      Mike          234545\n",
      "4  2080-2100     R5      Paul         1232345\n"
     ]
    }
   ],
   "source": [
    "#Let's now check out Sales Rep data\n",
    "\n",
    "print(ldata.head(5))"
   ]
  },
  {
   "cell_type": "code",
   "execution_count": 15,
   "metadata": {
    "scrolled": true
   },
   "outputs": [
    {
     "data": {
      "text/html": [
       "<div>\n",
       "<style scoped>\n",
       "    .dataframe tbody tr th:only-of-type {\n",
       "        vertical-align: middle;\n",
       "    }\n",
       "\n",
       "    .dataframe tbody tr th {\n",
       "        vertical-align: top;\n",
       "    }\n",
       "\n",
       "    .dataframe thead th {\n",
       "        text-align: right;\n",
       "    }\n",
       "</style>\n",
       "<table border=\"1\" class=\"dataframe\">\n",
       "  <thead>\n",
       "    <tr style=\"text-align: right;\">\n",
       "      <th></th>\n",
       "      <th>Range</th>\n",
       "      <th>Region</th>\n",
       "      <th>Sales Rep</th>\n",
       "      <th>Expect Revenue</th>\n",
       "      <th>START</th>\n",
       "      <th>END</th>\n",
       "    </tr>\n",
       "  </thead>\n",
       "  <tbody>\n",
       "    <tr>\n",
       "      <th>0</th>\n",
       "      <td>2000-2019</td>\n",
       "      <td>R1</td>\n",
       "      <td>John</td>\n",
       "      <td>1000000</td>\n",
       "      <td>2000</td>\n",
       "      <td>2019</td>\n",
       "    </tr>\n",
       "    <tr>\n",
       "      <th>1</th>\n",
       "      <td>2020-2039</td>\n",
       "      <td>R2</td>\n",
       "      <td>Ted</td>\n",
       "      <td>3245234</td>\n",
       "      <td>2020</td>\n",
       "      <td>2039</td>\n",
       "    </tr>\n",
       "    <tr>\n",
       "      <th>2</th>\n",
       "      <td>2040-2059</td>\n",
       "      <td>R3</td>\n",
       "      <td>Nick</td>\n",
       "      <td>456654</td>\n",
       "      <td>2040</td>\n",
       "      <td>2059</td>\n",
       "    </tr>\n",
       "    <tr>\n",
       "      <th>3</th>\n",
       "      <td>2060-2079</td>\n",
       "      <td>R4</td>\n",
       "      <td>Mike</td>\n",
       "      <td>234545</td>\n",
       "      <td>2060</td>\n",
       "      <td>2079</td>\n",
       "    </tr>\n",
       "    <tr>\n",
       "      <th>4</th>\n",
       "      <td>2080-2100</td>\n",
       "      <td>R5</td>\n",
       "      <td>Paul</td>\n",
       "      <td>1232345</td>\n",
       "      <td>2080</td>\n",
       "      <td>2100</td>\n",
       "    </tr>\n",
       "  </tbody>\n",
       "</table>\n",
       "</div>"
      ],
      "text/plain": [
       "       Range Region Sales Rep  Expect Revenue  START   END\n",
       "0  2000-2019     R1      John         1000000   2000  2019\n",
       "1  2020-2039     R2       Ted         3245234   2020  2039\n",
       "2  2040-2059     R3      Nick          456654   2040  2059\n",
       "3  2060-2079     R4      Mike          234545   2060  2079\n",
       "4  2080-2100     R5      Paul         1232345   2080  2100"
      ]
     },
     "execution_count": 15,
     "metadata": {},
     "output_type": "execute_result"
    }
   ],
   "source": [
    "#Let's split our Range column into two columns: one which will act as the start of the region he manages, \n",
    "#the other as the the last region\n",
    "\n",
    "ldata[\"START\"], ldata[\"END\"] = ldata['Range'].str.split('-',1).str\n",
    "ldata[[\"START\", \"END\"]] = ldata[[\"START\", \"END\"]].astype(int)\n",
    "ldata.head(5)"
   ]
  },
  {
   "cell_type": "code",
   "execution_count": 20,
   "metadata": {},
   "outputs": [],
   "source": [
    "#Here is the main crux of this code\n",
    "\n",
    "# We start by building three dataframes\n",
    "# Result will store a dataset that has one row for each of the Postal Areas that the Sales Rep is reponsible for\n",
    "# To get Result, we create two dataframes:\n",
    "#   - df that has one row for each postal area per sales rep, and brings in all the information for the other columns (Range,\n",
    "#       Region, Revenue, etc.)\n",
    "#   - df2 that will hold the Postal Area codes 2000 to 2100 - as we loop through each row\n",
    "\n",
    "\n",
    "result = pd.DataFrame()\n",
    "df = pd.DataFrame(columns = ['Range', 'Region', 'Sales Rep', 'Expect Revenue'])\n",
    "df1 = pd.DataFrame(columns = ['Postal Area'])\n",
    "\n",
    "#F will start as the initializing point for our loop that will generate all the possible Postal Areas, from 2000 to 2100\n",
    "\n",
    "F = 1999\n",
    "\n",
    "#Our loop is composed of two parts:\n",
    "#We start by generating an empty list for each Sales Rep\n",
    "\n",
    "for i, row in ldata.iterrows():\n",
    "    l = []\n",
    "\n",
    "    # We then iterate over the range of the Postal Areas that the Sales Rep is reponsible for, adding 1 to the range because of\n",
    "    # the way the Range is setup\n",
    "\n",
    "    for n in range(int(row['END']+1) - int(row['START'])):\n",
    "        \n",
    "        #We first generate df, by taking all the values for the other columns for each row in our Sales Rep data, and append \n",
    "        #that row to our first dataframe df. NTOTE: We need to convert our list l into a Dataframe in order to be able to\n",
    "        #append it to df\n",
    "        \n",
    "        l = [row['Range'], row['Region'], row['Sales Rep'], row['Expect Revenue']]\n",
    "        df = df.append(pd.DataFrame([l],columns=['Range', 'Region', 'Sales Rep', 'Expect Revenue']), \n",
    "                       ignore_index=True, sort=False)\n",
    "        \n",
    "        #We then create the corresponding Postal Area code, by starting at 1999 and adding one to each row, and then append\n",
    "        #that value to our second dataframe df2\n",
    "        \n",
    "        F = F + 1\n",
    "        df1 = df1.append(pd.DataFrame([F], columns = [\"Postal Area\"]), ignore_index = True)\n",
    "        \n",
    "        #we then join up both dataframes every row, creating a third dataframe that has all the relevant info for each sales\n",
    "        #rep, and the postal area they are responsible for, in the entire range of postal areas they are responsible for\n",
    "        \n",
    "        result = pd.merge(df, df1, left_index=True, right_index=True)"
   ]
  },
  {
   "cell_type": "code",
   "execution_count": 21,
   "metadata": {},
   "outputs": [
    {
     "data": {
      "text/html": [
       "<div>\n",
       "<style scoped>\n",
       "    .dataframe tbody tr th:only-of-type {\n",
       "        vertical-align: middle;\n",
       "    }\n",
       "\n",
       "    .dataframe tbody tr th {\n",
       "        vertical-align: top;\n",
       "    }\n",
       "\n",
       "    .dataframe thead th {\n",
       "        text-align: right;\n",
       "    }\n",
       "</style>\n",
       "<table border=\"1\" class=\"dataframe\">\n",
       "  <thead>\n",
       "    <tr style=\"text-align: right;\">\n",
       "      <th></th>\n",
       "      <th>Range</th>\n",
       "      <th>Region</th>\n",
       "      <th>Sales Rep</th>\n",
       "      <th>Expect Revenue</th>\n",
       "      <th>Postal Area</th>\n",
       "    </tr>\n",
       "  </thead>\n",
       "  <tbody>\n",
       "    <tr>\n",
       "      <th>0</th>\n",
       "      <td>2000-2019</td>\n",
       "      <td>R1</td>\n",
       "      <td>John</td>\n",
       "      <td>1000000</td>\n",
       "      <td>2000</td>\n",
       "    </tr>\n",
       "    <tr>\n",
       "      <th>1</th>\n",
       "      <td>2000-2019</td>\n",
       "      <td>R1</td>\n",
       "      <td>John</td>\n",
       "      <td>1000000</td>\n",
       "      <td>2001</td>\n",
       "    </tr>\n",
       "    <tr>\n",
       "      <th>2</th>\n",
       "      <td>2000-2019</td>\n",
       "      <td>R1</td>\n",
       "      <td>John</td>\n",
       "      <td>1000000</td>\n",
       "      <td>2002</td>\n",
       "    </tr>\n",
       "    <tr>\n",
       "      <th>3</th>\n",
       "      <td>2000-2019</td>\n",
       "      <td>R1</td>\n",
       "      <td>John</td>\n",
       "      <td>1000000</td>\n",
       "      <td>2003</td>\n",
       "    </tr>\n",
       "    <tr>\n",
       "      <th>4</th>\n",
       "      <td>2000-2019</td>\n",
       "      <td>R1</td>\n",
       "      <td>John</td>\n",
       "      <td>1000000</td>\n",
       "      <td>2004</td>\n",
       "    </tr>\n",
       "    <tr>\n",
       "      <th>5</th>\n",
       "      <td>2000-2019</td>\n",
       "      <td>R1</td>\n",
       "      <td>John</td>\n",
       "      <td>1000000</td>\n",
       "      <td>2005</td>\n",
       "    </tr>\n",
       "    <tr>\n",
       "      <th>6</th>\n",
       "      <td>2000-2019</td>\n",
       "      <td>R1</td>\n",
       "      <td>John</td>\n",
       "      <td>1000000</td>\n",
       "      <td>2006</td>\n",
       "    </tr>\n",
       "    <tr>\n",
       "      <th>7</th>\n",
       "      <td>2000-2019</td>\n",
       "      <td>R1</td>\n",
       "      <td>John</td>\n",
       "      <td>1000000</td>\n",
       "      <td>2007</td>\n",
       "    </tr>\n",
       "    <tr>\n",
       "      <th>8</th>\n",
       "      <td>2000-2019</td>\n",
       "      <td>R1</td>\n",
       "      <td>John</td>\n",
       "      <td>1000000</td>\n",
       "      <td>2008</td>\n",
       "    </tr>\n",
       "    <tr>\n",
       "      <th>9</th>\n",
       "      <td>2000-2019</td>\n",
       "      <td>R1</td>\n",
       "      <td>John</td>\n",
       "      <td>1000000</td>\n",
       "      <td>2009</td>\n",
       "    </tr>\n",
       "  </tbody>\n",
       "</table>\n",
       "</div>"
      ],
      "text/plain": [
       "       Range Region Sales Rep Expect Revenue Postal Area\n",
       "0  2000-2019     R1      John        1000000        2000\n",
       "1  2000-2019     R1      John        1000000        2001\n",
       "2  2000-2019     R1      John        1000000        2002\n",
       "3  2000-2019     R1      John        1000000        2003\n",
       "4  2000-2019     R1      John        1000000        2004\n",
       "5  2000-2019     R1      John        1000000        2005\n",
       "6  2000-2019     R1      John        1000000        2006\n",
       "7  2000-2019     R1      John        1000000        2007\n",
       "8  2000-2019     R1      John        1000000        2008\n",
       "9  2000-2019     R1      John        1000000        2009"
      ]
     },
     "execution_count": 21,
     "metadata": {},
     "output_type": "execute_result"
    }
   ],
   "source": [
    "#Here, we can see our final dataframe, that has all the relevant Sales Rep info on each row, and all the Postal Areas\n",
    "#they are responsible for\n",
    "\n",
    "result.head(10)"
   ]
  },
  {
   "cell_type": "code",
   "execution_count": 22,
   "metadata": {},
   "outputs": [],
   "source": [
    "#Here we convert Postal Area to an integer for our join (both field need to be of the same type)\n",
    "\n",
    "result[[\"Postal Area\"]] = result[[\"Postal Area\"]].astype(int)"
   ]
  },
  {
   "cell_type": "code",
   "execution_count": 23,
   "metadata": {},
   "outputs": [
    {
     "data": {
      "text/plain": [
       "(2678, 9)"
      ]
     },
     "execution_count": 23,
     "metadata": {},
     "output_type": "execute_result"
    }
   ],
   "source": [
    "#We join our customer data unto the new Sales Rep data, and check the number of rows to make sure we have assigned every\n",
    "#customer\n",
    "\n",
    "final = pd.merge(result, cdata, on = 'Postal Area', how = \"inner\")\n",
    "final.shape"
   ]
  },
  {
   "cell_type": "code",
   "execution_count": 24,
   "metadata": {},
   "outputs": [
    {
     "data": {
      "text/plain": [
       "Region  Sales Rep  Responder\n",
       "R1      John       No           476\n",
       "                   Yes           76\n",
       "R2      Ted        No           415\n",
       "                   Yes           87\n",
       "R3      Nick       No           493\n",
       "                   Yes           92\n",
       "R4      Mike       No           430\n",
       "                   Yes           82\n",
       "R5      Paul       No           434\n",
       "                   Yes           93\n",
       "Name: Customer ID, dtype: int64"
      ]
     },
     "execution_count": 24,
     "metadata": {},
     "output_type": "execute_result"
    }
   ],
   "source": [
    "#We summarize our data according to the dimensions specified in the challenge, and count the number of customers\n",
    "\n",
    "final.groupby(['Region', 'Sales Rep', 'Responder'])['Customer ID'].count()"
   ]
  },
  {
   "cell_type": "code",
   "execution_count": null,
   "metadata": {},
   "outputs": [],
   "source": []
  }
 ],
 "metadata": {
  "kernelspec": {
   "display_name": "Python 3",
   "language": "python",
   "name": "python3"
  },
  "language_info": {
   "codemirror_mode": {
    "name": "ipython",
    "version": 3
   },
   "file_extension": ".py",
   "mimetype": "text/x-python",
   "name": "python",
   "nbconvert_exporter": "python",
   "pygments_lexer": "ipython3",
   "version": "3.6.5"
  }
 },
 "nbformat": 4,
 "nbformat_minor": 2
}
