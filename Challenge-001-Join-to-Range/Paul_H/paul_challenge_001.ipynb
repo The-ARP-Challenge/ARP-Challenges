{
 "cells": [
  {
   "cell_type": "code",
   "execution_count": 23,
   "metadata": {},
   "outputs": [],
   "source": [
    "# Load required packages and Read in source files\n",
    "import pandas as pd\n",
    "import numpy as np\n",
    "output_csv = pd.read_csv(\"C:/Users/paulj/OneDrive/Documents/GitHub/Challenges/Challenge-001-Join-to-Range/files/output.csv\") \n",
    "range_csv = pd.read_csv(\"C:/Users/paulj/OneDrive/Documents/GitHub/Challenges/Challenge-001-Join-to-Range/files/range.csv\")\n",
    "customer = pd.read_csv(\"C:/Users/paulj/OneDrive/Documents/GitHub/Challenges/Challenge-001-Join-to-Range/files/customer.csv\")"
   ]
  },
  {
   "cell_type": "code",
   "execution_count": 20,
   "metadata": {},
   "outputs": [
    {
     "name": "stdout",
     "output_type": "stream",
     "text": [
      "       Range Region Sales Rep  Expect Revenue  start   end\n",
      "0  2000-2019     R1      John         1000000   2000  2019\n",
      "1  2020-2039     R2       Ted         3245234   2020  2039\n",
      "2  2040-2059     R3      Nick          456654   2040  2059\n",
      "3  2060-2079     R4      Mike          234545   2060  2079\n",
      "4  2080-2100     R5      Paul         1232345   2080  2100\n"
     ]
    }
   ],
   "source": [
    "# Split range table and generate full list\n",
    "df_range = range_csv['Range'].str.split('-', expand=True)\n",
    "df_range.columns = ['start', 'end']\n",
    "df_range = df_range.astype(int)\n",
    "\n",
    "df = range_csv.join(df_range)\n",
    "print(df)"
   ]
  },
  {
   "cell_type": "code",
   "execution_count": 21,
   "metadata": {},
   "outputs": [],
   "source": [
    "df_filled = pd.DataFrame()\n",
    "for index, row in df.iterrows():\n",
    "  fill = pd.DataFrame(list(range(row['start'], row['end']+1)))\n",
    "  fill['row'] = index\n",
    "  df_filled = df_filled.append(df, ignore_index = True)\n",
    "  \n",
    "#print(df_filled)"
   ]
  },
  {
   "cell_type": "markdown",
   "metadata": {},
   "source": [
    "Merge the two dataframes with a inner join"
   ]
  },
  {
   "cell_type": "code",
   "execution_count": 22,
   "metadata": {},
   "outputs": [
    {
     "data": {
      "text/html": [
       "<div>\n",
       "<style scoped>\n",
       "    .dataframe tbody tr th:only-of-type {\n",
       "        vertical-align: middle;\n",
       "    }\n",
       "\n",
       "    .dataframe tbody tr th {\n",
       "        vertical-align: top;\n",
       "    }\n",
       "\n",
       "    .dataframe thead th {\n",
       "        text-align: right;\n",
       "    }\n",
       "</style>\n",
       "<table border=\"1\" class=\"dataframe\">\n",
       "  <thead>\n",
       "    <tr style=\"text-align: right;\">\n",
       "      <th></th>\n",
       "      <th>Region</th>\n",
       "      <th>Sales Rep</th>\n",
       "      <th>Responder</th>\n",
       "      <th>Count</th>\n",
       "    </tr>\n",
       "  </thead>\n",
       "  <tbody>\n",
       "    <tr>\n",
       "      <th>0</th>\n",
       "      <td>R1</td>\n",
       "      <td>John</td>\n",
       "      <td>No</td>\n",
       "      <td>476</td>\n",
       "    </tr>\n",
       "    <tr>\n",
       "      <th>1</th>\n",
       "      <td>R1</td>\n",
       "      <td>John</td>\n",
       "      <td>Yes</td>\n",
       "      <td>76</td>\n",
       "    </tr>\n",
       "    <tr>\n",
       "      <th>2</th>\n",
       "      <td>R2</td>\n",
       "      <td>Ted</td>\n",
       "      <td>No</td>\n",
       "      <td>415</td>\n",
       "    </tr>\n",
       "    <tr>\n",
       "      <th>3</th>\n",
       "      <td>R2</td>\n",
       "      <td>Ted</td>\n",
       "      <td>Yes</td>\n",
       "      <td>87</td>\n",
       "    </tr>\n",
       "    <tr>\n",
       "      <th>4</th>\n",
       "      <td>R3</td>\n",
       "      <td>Nick</td>\n",
       "      <td>No</td>\n",
       "      <td>493</td>\n",
       "    </tr>\n",
       "    <tr>\n",
       "      <th>5</th>\n",
       "      <td>R3</td>\n",
       "      <td>Nick</td>\n",
       "      <td>Yes</td>\n",
       "      <td>92</td>\n",
       "    </tr>\n",
       "    <tr>\n",
       "      <th>6</th>\n",
       "      <td>R4</td>\n",
       "      <td>Mike</td>\n",
       "      <td>No</td>\n",
       "      <td>430</td>\n",
       "    </tr>\n",
       "    <tr>\n",
       "      <th>7</th>\n",
       "      <td>R4</td>\n",
       "      <td>Mike</td>\n",
       "      <td>Yes</td>\n",
       "      <td>82</td>\n",
       "    </tr>\n",
       "    <tr>\n",
       "      <th>8</th>\n",
       "      <td>R5</td>\n",
       "      <td>Paul</td>\n",
       "      <td>No</td>\n",
       "      <td>434</td>\n",
       "    </tr>\n",
       "    <tr>\n",
       "      <th>9</th>\n",
       "      <td>R5</td>\n",
       "      <td>Paul</td>\n",
       "      <td>Yes</td>\n",
       "      <td>93</td>\n",
       "    </tr>\n",
       "  </tbody>\n",
       "</table>\n",
       "</div>"
      ],
      "text/plain": [
       "  Region Sales Rep Responder  Count\n",
       "0     R1      John        No    476\n",
       "1     R1      John       Yes     76\n",
       "2     R2       Ted        No    415\n",
       "3     R2       Ted       Yes     87\n",
       "4     R3      Nick        No    493\n",
       "5     R3      Nick       Yes     92\n",
       "6     R4      Mike        No    430\n",
       "7     R4      Mike       Yes     82\n",
       "8     R5      Paul        No    434\n",
       "9     R5      Paul       Yes     93"
      ]
     },
     "execution_count": 22,
     "metadata": {},
     "output_type": "execute_result"
    }
   ],
   "source": [
    "output_csv"
   ]
  }
 ],
 "metadata": {
  "celltoolbar": "Attachments",
  "kernelspec": {
   "display_name": "Python 3",
   "language": "python",
   "name": "python3"
  },
  "language_info": {
   "codemirror_mode": {
    "name": "ipython",
    "version": 3
   },
   "file_extension": ".py",
   "mimetype": "text/x-python",
   "name": "python",
   "nbconvert_exporter": "python",
   "pygments_lexer": "ipython3",
   "version": "3.6.5"
  }
 },
 "nbformat": 4,
 "nbformat_minor": 2
}
