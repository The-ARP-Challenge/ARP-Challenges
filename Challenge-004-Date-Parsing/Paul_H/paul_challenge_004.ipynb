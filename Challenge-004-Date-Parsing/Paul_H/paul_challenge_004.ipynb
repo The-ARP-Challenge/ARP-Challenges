{
 "cells": [
  {
   "cell_type": "markdown",
   "metadata": {},
   "source": [
    "# Week 4 Challenge - Date Parsing\n",
    "\n",
    "A dataset contains a text field that has a date embedded within the text. The problem is that the date is represented a few different ways. For example:\n",
    "\n",
    "- 16-APR-2005\n",
    "- Nov•16,•1900\n",
    "- 4-SEP-00\n",
    "- Jan•5•2000\n",
    "\n",
    "The goal is to create a new Date/Time field populated with the dates contained within the text field. You will also need to standardize the dates so that they are all formatted the same."
   ]
  },
  {
   "cell_type": "code",
   "execution_count": null,
   "metadata": {},
   "outputs": [],
   "source": []
  }
 ],
 "metadata": {
  "kernelspec": {
   "display_name": "Python 3",
   "language": "python",
   "name": "python3"
  },
  "language_info": {
   "codemirror_mode": {
    "name": "ipython",
    "version": 3
   },
   "file_extension": ".py",
   "mimetype": "text/x-python",
   "name": "python",
   "nbconvert_exporter": "python",
   "pygments_lexer": "ipython3",
   "version": "3.6.5"
  }
 },
 "nbformat": 4,
 "nbformat_minor": 2
}
